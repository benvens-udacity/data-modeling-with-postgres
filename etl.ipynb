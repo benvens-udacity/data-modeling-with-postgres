{
 "cells": [
  {
   "cell_type": "markdown",
   "metadata": {},
   "source": [
    "# ETL Processes\n",
    "Use this notebook to develop the ETL process for each of your tables before completing the `etl.py` file to load the whole datasets."
   ]
  },
  {
   "cell_type": "code",
   "execution_count": 1,
   "metadata": {
    "scrolled": true
   },
   "outputs": [],
   "source": [
    "import os\n",
    "import glob\n",
    "import numpy as np\n",
    "import psycopg2\n",
    "import pandas as pd\n",
    "from sql_queries import *"
   ]
  },
  {
   "cell_type": "code",
   "execution_count": 33,
   "metadata": {},
   "outputs": [
    {
     "data": {
      "text/plain": [
       "('3.6.12 |Anaconda, Inc.| (default, Sep  8 2020, 23:10:56) \\n[GCC 7.3.0]',\n",
       " '1.1.5',\n",
       " '1.19.2',\n",
       " '2.8.6 (dt dec pq3 ext lo64)',\n",
       " '2.0.9')"
      ]
     },
     "execution_count": 33,
     "metadata": {},
     "output_type": "execute_result"
    }
   ],
   "source": [
    "import sys\n",
    "import json\n",
    "sys.version, pd.__version__, np.__version__, psycopg2.__version__, json.__version__"
   ]
  },
  {
   "cell_type": "code",
   "execution_count": 31,
   "metadata": {},
   "outputs": [
    {
     "name": "stdout",
     "output_type": "stream",
     "text": [
      "# packages in environment at /opt/conda:\r\n",
      "#\r\n",
      "# Name                    Version                   Build  Channel\r\n",
      "_libgcc_mutex             0.1                        main  \r\n",
      "absl-py                   0.10.0                   pypi_0    pypi\r\n",
      "alabaster                 0.7.12                   pypi_0    pypi\r\n",
      "apex                      0.1                      pypi_0    pypi\r\n",
      "argon2-cffi               20.1.0                   pypi_0    pypi\r\n",
      "ascii-graph               1.5.1                    pypi_0    pypi\r\n",
      "async-generator           1.10                     pypi_0    pypi\r\n",
      "attrs                     20.3.0             pyhd3eb1b0_0  \r\n",
      "audioread                 2.1.9                    pypi_0    pypi\r\n",
      "babel                     2.8.0                    pypi_0    pypi\r\n",
      "backcall                  0.2.0                      py_0  \r\n",
      "beautifulsoup4            4.9.3              pyhb0f4dca_0  \r\n",
      "blas                      1.0                    openblas  \r\n",
      "bleach                    3.2.1                    pypi_0    pypi\r\n",
      "boto3                     1.16.2                   pypi_0    pypi\r\n",
      "botocore                  1.19.2                   pypi_0    pypi\r\n",
      "brotlipy                  0.7.0           py36h27cfd23_1003  \r\n",
      "bzip2                     1.0.8                h7b6447c_0  \r\n",
      "ca-certificates           2020.12.8            h06a4308_0  \r\n",
      "catalogue                 1.0.0                    py36_1  \r\n",
      "certifi                   2020.12.5        py36h06a4308_0  \r\n",
      "cffi                      1.14.4           py36h261ae71_0  \r\n",
      "chardet                   4.0.0           py36h06a4308_1003  \r\n",
      "click                     7.1.2                    pypi_0    pypi\r\n",
      "cmake                     3.18.2               ha30ef3c_0  \r\n",
      "codecov                   2.1.10                   pypi_0    pypi\r\n",
      "conda                     4.9.2            py36h06a4308_0  \r\n",
      "conda-build               3.20.5                   py36_1  \r\n",
      "conda-package-handling    1.7.2            py36h03888b9_0  \r\n",
      "coverage                  5.3                      pypi_0    pypi\r\n",
      "cryptography              3.3.1            py36h3c74f83_0  \r\n",
      "cxxfilt                   0.2.2                    pypi_0    pypi\r\n",
      "cycler                    0.10.0                   pypi_0    pypi\r\n",
      "cymem                     2.0.4            py36h2531618_0  \r\n",
      "cython                    0.28.4                   pypi_0    pypi\r\n",
      "cython-blis               0.4.1            py36h7b6447c_1  \r\n",
      "dataclasses               0.7                      pypi_0    pypi\r\n",
      "dataproperty              0.50.0                   pypi_0    pypi\r\n",
      "decorator                 4.4.2                      py_0  \r\n",
      "defusedxml                0.6.0                    pypi_0    pypi\r\n",
      "dllogger                  0.1.0                    pypi_0    pypi\r\n",
      "docutils                  0.16                     pypi_0    pypi\r\n",
      "entrypoints               0.3                      pypi_0    pypi\r\n",
      "expat                     2.2.10               he6710b0_2  \r\n",
      "filelock                  3.0.12                     py_0  \r\n",
      "flake8                    3.7.9                    pypi_0    pypi\r\n",
      "flask                     1.1.2                    pypi_0    pypi\r\n",
      "future                    0.18.2                   pypi_0    pypi\r\n",
      "glob2                     0.7                        py_0  \r\n",
      "grpcio                    1.33.1                   pypi_0    pypi\r\n",
      "h5py                      2.10.0                   pypi_0    pypi\r\n",
      "html2text                 2020.1.16                pypi_0    pypi\r\n",
      "hypothesis                4.50.8                   pypi_0    pypi\r\n",
      "icu                       58.2                 he6710b0_3  \r\n",
      "idna                      2.10                       py_0  \r\n",
      "imageio                   2.9.0                    pypi_0    pypi\r\n",
      "imagesize                 1.2.0                    pypi_0    pypi\r\n",
      "importlib-metadata        2.0.0                      py_1  \r\n",
      "importlib_metadata        2.0.0                         1  \r\n",
      "inflect                   4.1.0                    pypi_0    pypi\r\n",
      "iniconfig                 1.1.1                    pypi_0    pypi\r\n",
      "intel-openmp              2020.2                      254  \r\n",
      "ipdb                      0.13.4                   pypi_0    pypi\r\n",
      "ipykernel                 5.3.4                    pypi_0    pypi\r\n",
      "ipython                   7.16.1           py36h5ca1d4c_0  \r\n",
      "ipython-sql               0.4.0                    pypi_0    pypi\r\n",
      "ipython_genutils          0.2.0              pyhd3eb1b0_1  \r\n",
      "ipywidgets                7.5.1                    pypi_0    pypi\r\n",
      "itsdangerous              1.1.0                    pypi_0    pypi\r\n",
      "jedi                      0.17.2           py36h06a4308_1  \r\n",
      "jinja2                    2.11.2                     py_0  \r\n",
      "jmespath                  0.10.0                   pypi_0    pypi\r\n",
      "joblib                    0.17.0                   pypi_0    pypi\r\n",
      "json5                     0.9.5                    pypi_0    pypi\r\n",
      "jsonschema                3.0.2                    py36_0  \r\n",
      "jupyter-client            6.1.7                    pypi_0    pypi\r\n",
      "jupyter-contrib-core      0.3.3                    pypi_0    pypi\r\n",
      "jupyter-contrib-nbextensions 0.5.1                    pypi_0    pypi\r\n",
      "jupyter-core              4.6.3                    pypi_0    pypi\r\n",
      "jupyter-highlight-selected-word 0.2.0                    pypi_0    pypi\r\n",
      "jupyter-latex-envs        1.4.6                    pypi_0    pypi\r\n",
      "jupyter-nbextensions-configurator 0.4.1                    pypi_0    pypi\r\n",
      "jupyter-tensorboard       0.2.0                    pypi_0    pypi\r\n",
      "jupyterlab                1.2.14                   pypi_0    pypi\r\n",
      "jupyterlab-pygments       0.1.2                    pypi_0    pypi\r\n",
      "jupyterlab-server         1.2.0                    pypi_0    pypi\r\n",
      "jupytext                  1.6.0                    pypi_0    pypi\r\n",
      "kiwisolver                1.2.0                    pypi_0    pypi\r\n",
      "krb5                      1.18.2               h173b8e3_0  \r\n",
      "ld_impl_linux-64          2.33.1               h53a641e_7  \r\n",
      "libarchive                3.4.2                h62408e4_0  \r\n",
      "libcurl                   7.71.1               h20c2e04_1  \r\n",
      "libedit                   3.1.20191231         h14c3975_1  \r\n",
      "libffi                    3.3                  he6710b0_2  \r\n",
      "libgcc-ng                 9.1.0                hdf63c60_0  \r\n",
      "libgfortran-ng            7.3.0                hdf63c60_0  \r\n",
      "liblief                   0.10.1               he6710b0_0  \r\n",
      "libllvm10                 10.0.1               hbcb73fb_5  \r\n",
      "libopenblas               0.3.10               h5a2b251_0  \r\n",
      "librosa                   0.6.3                    pypi_0    pypi\r\n",
      "libssh2                   1.9.0                h1ba5d50_1  \r\n",
      "libstdcxx-ng              9.1.0                hdf63c60_0  \r\n",
      "libuv                     1.40.0               h7b6447c_0  \r\n",
      "libxml2                   2.9.10               hb55368b_3  \r\n",
      "llvmlite                  0.34.0           py36h269e1b5_4  \r\n",
      "lmdb                      1.0.0                    pypi_0    pypi\r\n",
      "lxml                      4.6.2                    pypi_0    pypi\r\n",
      "lz4-c                     1.9.2                heb0550a_3  \r\n",
      "magma-cuda110             2.5.2                         5    local\r\n",
      "markdown                  3.3.2                    pypi_0    pypi\r\n",
      "markdown-it-py            0.5.6                    pypi_0    pypi\r\n",
      "markupsafe                1.1.1            py36h7b6447c_0  \r\n",
      "maskrcnn-benchmark        0.1                      pypi_0    pypi\r\n",
      "matplotlib                3.3.2                    pypi_0    pypi\r\n",
      "mbstrdecoder              1.0.0                    pypi_0    pypi\r\n",
      "mccabe                    0.6.1                    pypi_0    pypi\r\n",
      "mistune                   0.8.4                    pypi_0    pypi\r\n",
      "mkl                       2020.2                      256  \r\n",
      "mkl-include               2020.2                      256  \r\n",
      "mlperf-compliance         0.0.10                   pypi_0    pypi\r\n",
      "mock                      4.0.3              pyhd3eb1b0_0  \r\n",
      "msgfy                     0.1.0                    pypi_0    pypi\r\n",
      "murmurhash                1.0.5            py36h2531618_0  \r\n",
      "nbclient                  0.5.1                    pypi_0    pypi\r\n",
      "nbconvert                 6.0.7                    pypi_0    pypi\r\n",
      "nbformat                  5.0.8                    pypi_0    pypi\r\n",
      "ncurses                   6.2                  he6710b0_1  \r\n",
      "nest-asyncio              1.4.1                    pypi_0    pypi\r\n",
      "networkx                  2.0                      pypi_0    pypi\r\n",
      "ninja                     1.10.2           py36hff7bd54_0  \r\n",
      "nltk                      3.5                      pypi_0    pypi\r\n",
      "nomkl                     3.0                           0  \r\n",
      "notebook                  6.1.4                    pypi_0    pypi\r\n",
      "numba                     0.51.2           py36h0573a6f_1  \r\n",
      "numpy                     1.19.2           py36h6163131_0  \r\n",
      "numpy-base                1.19.2           py36h75fe3a5_0  \r\n",
      "nvidia-dali-cuda110       0.26.0                   pypi_0    pypi\r\n",
      "nvidia-tensorboard        1.15.0+nv20.10           pypi_0    pypi\r\n",
      "nvidia-tensorboard-plugin-dlprof 0.8                      pypi_0    pypi\r\n",
      "oauthlib                  3.1.0                    pypi_0    pypi\r\n",
      "onnx                      1.7.0                    pypi_0    pypi\r\n",
      "onnxruntime               1.5.2                    pypi_0    pypi\r\n",
      "openblas                  0.3.10                        0  \r\n",
      "openblas-devel            0.3.10                        0  \r\n",
      "opencv-python             3.4.1.15                 pypi_0    pypi\r\n",
      "openssl                   1.1.1i               h27cfd23_0  \r\n",
      "packaging                 20.4                     pypi_0    pypi\r\n",
      "pandas                    0.24.2                   pypi_0    pypi\r\n",
      "pandocfilters             1.4.2                    pypi_0    pypi\r\n",
      "parso                     0.7.0                      py_0  \r\n",
      "patchelf                  0.12                 h2531618_1  \r\n",
      "pathvalidate              2.3.0                    pypi_0    pypi\r\n",
      "pexpect                   4.8.0              pyhd3eb1b0_3  \r\n",
      "pickleshare               0.7.5           pyhd3eb1b0_1003  \r\n",
      "pillow-simd               7.0.0.post3              pypi_0    pypi\r\n",
      "pip                       20.3.3           py36h06a4308_0  \r\n",
      "pkginfo                   1.6.1            py36h06a4308_0  \r\n",
      "plac                      1.1.0                    py36_1  \r\n",
      "pluggy                    0.13.1                   pypi_0    pypi\r\n",
      "preshed                   3.0.2            py36he6710b0_1  \r\n",
      "prettytable               0.7.2                    pypi_0    pypi\r\n",
      "progressbar               2.5                      pypi_0    pypi\r\n",
      "prometheus-client         0.8.0                    pypi_0    pypi\r\n",
      "prompt-toolkit            3.0.8                      py_0  \r\n",
      "protobuf                  3.13.0                   pypi_0    pypi\r\n",
      "psutil                    5.7.2            py36h7b6447c_0  \r\n",
      "psycopg2                  2.8.6                    pypi_0    pypi\r\n",
      "ptyprocess                0.6.0              pyhd3eb1b0_2  \r\n",
      "py                        1.9.0                    pypi_0    pypi\r\n",
      "py-lief                   0.10.1           py36h403a769_0  \r\n",
      "pybind11                  2.6.0                    pypi_0    pypi\r\n",
      "pycocotools               2.0+nv0.4.0              pypi_0    pypi\r\n",
      "pycodestyle               2.5.0                    pypi_0    pypi\r\n",
      "pycosat                   0.6.3            py36h27cfd23_0  \r\n",
      "pycparser                 2.20                       py_2  \r\n",
      "pydot                     1.4.1                    pypi_0    pypi\r\n",
      "pyflakes                  2.1.1                    pypi_0    pypi\r\n",
      "pygments                  2.7.3              pyhd3eb1b0_0  \r\n",
      "pynvml                    8.0.4                    pypi_0    pypi\r\n",
      "pyopenssl                 20.0.1             pyhd3eb1b0_1  \r\n",
      "pyparsing                 2.4.7                    pypi_0    pypi\r\n",
      "pyprof                    3.5.0                    pypi_0    pypi\r\n",
      "pyrsistent                0.17.3           py36h7b6447c_0  \r\n",
      "pysocks                   1.7.1            py36h06a4308_0  \r\n",
      "pytablewriter             0.47.0                   pypi_0    pypi\r\n",
      "pytest                    6.1.1                    pypi_0    pypi\r\n",
      "pytest-cov                2.10.1                   pypi_0    pypi\r\n",
      "pytest-pythonpath         0.7.3                    pypi_0    pypi\r\n",
      "python                    3.6.12               hcff3b4d_2  \r\n",
      "python-dateutil           2.8.1                      py_0  \r\n",
      "python-hostlist           1.21                     pypi_0    pypi\r\n",
      "python-libarchive-c       2.9                        py_0  \r\n",
      "python-nvd3               0.15.0                   pypi_0    pypi\r\n",
      "python-slugify            4.0.1                    pypi_0    pypi\r\n",
      "pytorch-transformers      1.1.0                    pypi_0    pypi\r\n",
      "pytz                      2020.4             pyhd3eb1b0_0  \r\n",
      "pywavelets                1.1.1                    pypi_0    pypi\r\n",
      "pyyaml                    5.3.1            py36h7b6447c_1  \r\n",
      "pyzmq                     19.0.2                   pypi_0    pypi\r\n",
      "readline                  8.0                  h7b6447c_0  \r\n",
      "regex                     2020.10.15               pypi_0    pypi\r\n",
      "requests                  2.25.1             pyhd3eb1b0_0  \r\n",
      "requests-oauthlib         1.3.0                    pypi_0    pypi\r\n",
      "resampy                   0.2.2                    pypi_0    pypi\r\n",
      "revtok                    0.0.3                    pypi_0    pypi\r\n",
      "rhash                     1.4.0                h1ba5d50_0  \r\n",
      "ripgrep                   12.1.1                        0  \r\n",
      "ruamel_yaml               0.15.87          py36h7b6447c_1  \r\n",
      "s3transfer                0.3.3                    pypi_0    pypi\r\n",
      "sacrebleu                 1.2.10                   pypi_0    pypi\r\n",
      "sacremoses                0.0.35                   pypi_0    pypi\r\n",
      "scikit-image              0.15.0                   pypi_0    pypi\r\n",
      "scikit-learn              0.23.2                   pypi_0    pypi\r\n",
      "scipy                     1.5.2            py36habc2bb6_0  \r\n",
      "send2trash                1.5.0                    pypi_0    pypi\r\n",
      "sentencepiece             0.1.91                   pypi_0    pypi\r\n",
      "setuptools                51.0.0           py36h06a4308_2  \r\n",
      "six                       1.15.0           py36h06a4308_0  \r\n",
      "snowballstemmer           2.0.0                    pypi_0    pypi\r\n",
      "soundfile                 0.10.3.post1             pypi_0    pypi\r\n",
      "soupsieve                 2.1                pyhd3eb1b0_0  \r\n",
      "sox                       1.4.1                    pypi_0    pypi\r\n",
      "spacy                     2.3.5            py36hff7bd54_0  \r\n",
      "sphinx                    3.2.1                    pypi_0    pypi\r\n",
      "sphinx-rtd-theme          0.5.0                    pypi_0    pypi\r\n",
      "sphinxcontrib-applehelp   1.0.2                    pypi_0    pypi\r\n",
      "sphinxcontrib-devhelp     1.0.2                    pypi_0    pypi\r\n",
      "sphinxcontrib-htmlhelp    1.0.3                    pypi_0    pypi\r\n",
      "sphinxcontrib-jsmath      1.0.1                    pypi_0    pypi\r\n",
      "sphinxcontrib-qthelp      1.0.3                    pypi_0    pypi\r\n",
      "sphinxcontrib-serializinghtml 1.1.4                    pypi_0    pypi\r\n",
      "sqlalchemy                1.3.22                   pypi_0    pypi\r\n",
      "sqlite                    3.33.0               h62c20be_0  \r\n",
      "sqlparse                  0.4.1                    pypi_0    pypi\r\n",
      "srsly                     1.0.5            py36h2531618_0  \r\n",
      "ssd                       0.1                      pypi_0    pypi\r\n",
      "subword-nmt               0.3.3                    pypi_0    pypi\r\n",
      "tabledata                 1.1.3                    pypi_0    pypi\r\n",
      "tabulate                  0.8.7                    pypi_0    pypi\r\n",
      "tbb                       2020.3               hfd86e86_0  \r\n",
      "tensorboard               1.15.9999+nv             pypi_0    pypi\r\n",
      "tensorrt                  7.2.1.4                  pypi_0    pypi\r\n",
      "terminado                 0.9.1                    pypi_0    pypi\r\n",
      "testpath                  0.4.4                    pypi_0    pypi\r\n",
      "text-unidecode            1.3                      pypi_0    pypi\r\n",
      "thinc                     7.4.5            py36h9a67853_0  \r\n",
      "threadpoolctl             2.1.0                    pypi_0    pypi\r\n",
      "tk                        8.6.10               hbc83047_0  \r\n",
      "toml                      0.10.1                   pypi_0    pypi\r\n",
      "torch                     1.7.0a0+7036e91          pypi_0    pypi\r\n",
      "torchtext                 0.8.0a0                  pypi_0    pypi\r\n",
      "torchvision               0.8.0a0                  pypi_0    pypi\r\n",
      "tornado                   6.0.4                    pypi_0    pypi\r\n",
      "tqdm                      4.31.1                   pypi_0    pypi\r\n",
      "traitlets                 4.3.3                    py36_0  \r\n",
      "tweepy                    3.9.0                    pypi_0    pypi\r\n",
      "typepy                    1.1.1                    pypi_0    pypi\r\n",
      "typing                    3.7.4.3                  pypi_0    pypi\r\n",
      "typing-extensions         3.7.4.3                  pypi_0    pypi\r\n",
      "unidecode                 1.1.1                    pypi_0    pypi\r\n",
      "urllib3                   1.26.2             pyhd3eb1b0_0  \r\n",
      "wasabi                    0.8.0                      py_0  \r\n",
      "wcwidth                   0.2.5                      py_0  \r\n",
      "webencodings              0.5.1                    pypi_0    pypi\r\n",
      "werkzeug                  1.0.1                    pypi_0    pypi\r\n",
      "wheel                     0.36.2             pyhd3eb1b0_0  \r\n",
      "widgetsnbextension        3.5.1                    pypi_0    pypi\r\n",
      "wrapt                     1.10.11                  pypi_0    pypi\r\n",
      "xz                        5.2.5                h7b6447c_0  \r\n",
      "yacs                      0.1.8                    pypi_0    pypi\r\n",
      "yaml                      0.2.5                h7b6447c_0  \r\n",
      "zipp                      3.4.0              pyhd3eb1b0_0  \r\n",
      "zlib                      1.2.11               h7b6447c_3  \r\n",
      "zstd                      1.4.5                h9ceee32_0  \r\n"
     ]
    }
   ],
   "source": [
    "!conda list"
   ]
  },
  {
   "cell_type": "code",
   "execution_count": 32,
   "metadata": {},
   "outputs": [
    {
     "name": "stdout",
     "output_type": "stream",
     "text": [
      "Python 3.6.12 :: Anaconda, Inc.\r\n"
     ]
    }
   ],
   "source": [
    "!python --version"
   ]
  },
  {
   "cell_type": "code",
   "execution_count": 2,
   "metadata": {
    "scrolled": true
   },
   "outputs": [],
   "source": [
    "conn = psycopg2.connect(\"host=local-postgres dbname=sparkifydb user=student password=student\")\n",
    "cur = conn.cursor()"
   ]
  },
  {
   "cell_type": "code",
   "execution_count": 3,
   "metadata": {
    "scrolled": true
   },
   "outputs": [],
   "source": [
    "def get_files(filepath):\n",
    "    all_files = []\n",
    "    for root, dirs, files in os.walk(filepath):\n",
    "        files = glob.glob(os.path.join(root,'*.json'))\n",
    "        for f in files :\n",
    "            all_files.append(os.path.abspath(f))\n",
    "    \n",
    "    return all_files"
   ]
  },
  {
   "cell_type": "markdown",
   "metadata": {},
   "source": [
    "# Process `song_data`\n",
    "In this first part, you'll perform ETL on the first dataset, `song_data`, to create the `songs` and `artists` dimensional tables.\n",
    "\n",
    "Let's perform ETL on a single song file and load a single record into each table to start.\n",
    "- Use the `get_files` function provided above to get a list of all song JSON files in `data/song_data`\n",
    "- Select the first song in this list\n",
    "- Read the song file and view the data"
   ]
  },
  {
   "cell_type": "code",
   "execution_count": 4,
   "metadata": {
    "scrolled": true
   },
   "outputs": [],
   "source": [
    "dir_paths = get_files(\"./data/song_data\")"
   ]
  },
  {
   "cell_type": "code",
   "execution_count": 5,
   "metadata": {
    "scrolled": true
   },
   "outputs": [],
   "source": [
    "filepath = dir_paths[0]"
   ]
  },
  {
   "cell_type": "code",
   "execution_count": 6,
   "metadata": {
    "scrolled": true
   },
   "outputs": [
    {
     "data": {
      "text/html": [
       "<div>\n",
       "<style scoped>\n",
       "    .dataframe tbody tr th:only-of-type {\n",
       "        vertical-align: middle;\n",
       "    }\n",
       "\n",
       "    .dataframe tbody tr th {\n",
       "        vertical-align: top;\n",
       "    }\n",
       "\n",
       "    .dataframe thead th {\n",
       "        text-align: right;\n",
       "    }\n",
       "</style>\n",
       "<table border=\"1\" class=\"dataframe\">\n",
       "  <thead>\n",
       "    <tr style=\"text-align: right;\">\n",
       "      <th></th>\n",
       "      <th>num_songs</th>\n",
       "      <th>artist_id</th>\n",
       "      <th>artist_latitude</th>\n",
       "      <th>artist_longitude</th>\n",
       "      <th>artist_location</th>\n",
       "      <th>artist_name</th>\n",
       "      <th>song_id</th>\n",
       "      <th>title</th>\n",
       "      <th>duration</th>\n",
       "      <th>year</th>\n",
       "    </tr>\n",
       "  </thead>\n",
       "  <tbody>\n",
       "    <tr>\n",
       "      <th>0</th>\n",
       "      <td>1</td>\n",
       "      <td>AR7G5I41187FB4CE6C</td>\n",
       "      <td>NaN</td>\n",
       "      <td>NaN</td>\n",
       "      <td>London, England</td>\n",
       "      <td>Adam Ant</td>\n",
       "      <td>SONHOTT12A8C13493C</td>\n",
       "      <td>Something Girls</td>\n",
       "      <td>233.40363</td>\n",
       "      <td>1982</td>\n",
       "    </tr>\n",
       "  </tbody>\n",
       "</table>\n",
       "</div>"
      ],
      "text/plain": [
       "   num_songs           artist_id  artist_latitude  artist_longitude  \\\n",
       "0          1  AR7G5I41187FB4CE6C              NaN               NaN   \n",
       "\n",
       "   artist_location artist_name             song_id            title  \\\n",
       "0  London, England    Adam Ant  SONHOTT12A8C13493C  Something Girls   \n",
       "\n",
       "    duration  year  \n",
       "0  233.40363  1982  "
      ]
     },
     "execution_count": 6,
     "metadata": {},
     "output_type": "execute_result"
    }
   ],
   "source": [
    "song_df = pd.read_json(filepath, orient='records', lines=True)\n",
    "song_df.head()"
   ]
  },
  {
   "cell_type": "markdown",
   "metadata": {},
   "source": [
    "## #1: `songs` Table\n",
    "#### Extract Data for Songs Table\n",
    "- Select columns for song ID, title, artist ID, year, and duration\n",
    "- Use `df.values` to select just the values from the dataframe\n",
    "- Index to select the first (only) record in the dataframe\n",
    "- Convert the array to a list and set it to `song_data`"
   ]
  },
  {
   "cell_type": "code",
   "execution_count": 7,
   "metadata": {
    "scrolled": true
   },
   "outputs": [
    {
     "data": {
      "text/plain": [
       "['SONHOTT12A8C13493C',\n",
       " 'Something Girls',\n",
       " 'AR7G5I41187FB4CE6C',\n",
       " 1982,\n",
       " 233.40363]"
      ]
     },
     "execution_count": 7,
     "metadata": {},
     "output_type": "execute_result"
    }
   ],
   "source": [
    "song_data = song_df.iloc[0][['song_id',\n",
    "                             'title',\n",
    "                             'artist_id',\n",
    "                             'year',\n",
    "                             'duration']].to_numpy()\n",
    "song_data = [el.item() if type(el).__module__ == 'numpy' else el for el in song_data]\n",
    "song_data"
   ]
  },
  {
   "cell_type": "markdown",
   "metadata": {},
   "source": [
    "#### Insert Record into Song Table\n",
    "Implement the `song_table_insert` query in `sql_queries.py` and run the cell below to insert a record for this song into the `songs` table. Remember to run `create_tables.py` before running the cell below to ensure you've created/resetted the `songs` table in the sparkify database."
   ]
  },
  {
   "cell_type": "code",
   "execution_count": 8,
   "metadata": {
    "scrolled": true
   },
   "outputs": [],
   "source": [
    "cur.execute(song_table_insert, song_data)\n",
    "conn.commit()"
   ]
  },
  {
   "cell_type": "markdown",
   "metadata": {},
   "source": [
    "Run `test.ipynb` to see if you've successfully added a record to this table."
   ]
  },
  {
   "cell_type": "markdown",
   "metadata": {},
   "source": [
    "## #2: `artists` Table\n",
    "#### Extract Data for Artists Table\n",
    "- Select columns for artist ID, name, location, latitude, and longitude\n",
    "- Use `df.values` to select just the values from the dataframe\n",
    "- Index to select the first (only) record in the dataframe\n",
    "- Convert the array to a list and set it to `artist_data`"
   ]
  },
  {
   "cell_type": "code",
   "execution_count": 9,
   "metadata": {},
   "outputs": [],
   "source": [
    "import math"
   ]
  },
  {
   "cell_type": "code",
   "execution_count": 10,
   "metadata": {
    "scrolled": true
   },
   "outputs": [
    {
     "data": {
      "text/plain": [
       "['AR7G5I41187FB4CE6C', 'Adam Ant', 'London, England', None, None]"
      ]
     },
     "execution_count": 10,
     "metadata": {},
     "output_type": "execute_result"
    }
   ],
   "source": [
    "artist_data = song_df.iloc[0][['artist_id', \n",
    "                               'artist_name', \n",
    "                               'artist_location', \n",
    "                               'artist_latitude', \n",
    "                               'artist_longitude']].to_numpy()\n",
    "artist_data = [None if type(el).__module__ == 'numpy' and np.isnan(el) else el for el in artist_data]\n",
    "artist_data"
   ]
  },
  {
   "cell_type": "markdown",
   "metadata": {},
   "source": [
    "#### Insert Record into Artist Table\n",
    "Implement the `artist_table_insert` query in `sql_queries.py` and run the cell below to insert a record for this song's artist into the `artists` table. Remember to run `create_tables.py` before running the cell below to ensure you've created/resetted the `artists` table in the sparkify database."
   ]
  },
  {
   "cell_type": "code",
   "execution_count": 11,
   "metadata": {
    "scrolled": true
   },
   "outputs": [],
   "source": [
    "cur.execute(artist_table_insert, artist_data)\n",
    "conn.commit()"
   ]
  },
  {
   "cell_type": "markdown",
   "metadata": {},
   "source": [
    "Run `test.ipynb` to see if you've successfully added a record to this table."
   ]
  },
  {
   "cell_type": "markdown",
   "metadata": {},
   "source": [
    "# Process `log_data`\n",
    "In this part, you'll perform ETL on the second dataset, `log_data`, to create the `time` and `users` dimensional tables, as well as the `songplays` fact table.\n",
    "\n",
    "Let's perform ETL on a single log file and load a single record into each table.\n",
    "- Use the `get_files` function provided above to get a list of all log JSON files in `data/log_data`\n",
    "- Select the first log file in this list\n",
    "- Read the log file and view the data"
   ]
  },
  {
   "cell_type": "code",
   "execution_count": 12,
   "metadata": {
    "scrolled": true
   },
   "outputs": [],
   "source": [
    "log_files = get_files(\"./data/log_data\")"
   ]
  },
  {
   "cell_type": "code",
   "execution_count": 13,
   "metadata": {
    "scrolled": true
   },
   "outputs": [
    {
     "data": {
      "text/plain": [
       "'/Docker/Developer/udacity/projects/data-modeling-with-postgres/data/log_data/2018/11/2018-11-27-events.json'"
      ]
     },
     "execution_count": 13,
     "metadata": {},
     "output_type": "execute_result"
    }
   ],
   "source": [
    "filepath = log_files[0]\n",
    "filepath"
   ]
  },
  {
   "cell_type": "code",
   "execution_count": 14,
   "metadata": {
    "scrolled": true
   },
   "outputs": [
    {
     "data": {
      "text/html": [
       "<div>\n",
       "<style scoped>\n",
       "    .dataframe tbody tr th:only-of-type {\n",
       "        vertical-align: middle;\n",
       "    }\n",
       "\n",
       "    .dataframe tbody tr th {\n",
       "        vertical-align: top;\n",
       "    }\n",
       "\n",
       "    .dataframe thead th {\n",
       "        text-align: right;\n",
       "    }\n",
       "</style>\n",
       "<table border=\"1\" class=\"dataframe\">\n",
       "  <thead>\n",
       "    <tr style=\"text-align: right;\">\n",
       "      <th></th>\n",
       "      <th>artist</th>\n",
       "      <th>auth</th>\n",
       "      <th>firstName</th>\n",
       "      <th>gender</th>\n",
       "      <th>itemInSession</th>\n",
       "      <th>lastName</th>\n",
       "      <th>length</th>\n",
       "      <th>level</th>\n",
       "      <th>location</th>\n",
       "      <th>method</th>\n",
       "      <th>page</th>\n",
       "      <th>registration</th>\n",
       "      <th>sessionId</th>\n",
       "      <th>song</th>\n",
       "      <th>status</th>\n",
       "      <th>ts</th>\n",
       "      <th>userAgent</th>\n",
       "      <th>userId</th>\n",
       "    </tr>\n",
       "  </thead>\n",
       "  <tbody>\n",
       "    <tr>\n",
       "      <th>0</th>\n",
       "      <td>Barry Tuckwell/Academy of St Martin-in-the-Fie...</td>\n",
       "      <td>Logged In</td>\n",
       "      <td>Mohammad</td>\n",
       "      <td>M</td>\n",
       "      <td>0</td>\n",
       "      <td>Rodriguez</td>\n",
       "      <td>277.15873</td>\n",
       "      <td>paid</td>\n",
       "      <td>Sacramento--Roseville--Arden-Arcade, CA</td>\n",
       "      <td>PUT</td>\n",
       "      <td>NextSong</td>\n",
       "      <td>1.540512e+12</td>\n",
       "      <td>961</td>\n",
       "      <td>Horn Concerto No. 4 in E flat K495: II. Romanc...</td>\n",
       "      <td>200</td>\n",
       "      <td>1543279932796</td>\n",
       "      <td>\"Mozilla/5.0 (Macintosh; Intel Mac OS X 10_9_4...</td>\n",
       "      <td>88</td>\n",
       "    </tr>\n",
       "    <tr>\n",
       "      <th>1</th>\n",
       "      <td>Jimi Hendrix</td>\n",
       "      <td>Logged In</td>\n",
       "      <td>Mohammad</td>\n",
       "      <td>M</td>\n",
       "      <td>1</td>\n",
       "      <td>Rodriguez</td>\n",
       "      <td>239.82975</td>\n",
       "      <td>paid</td>\n",
       "      <td>Sacramento--Roseville--Arden-Arcade, CA</td>\n",
       "      <td>PUT</td>\n",
       "      <td>NextSong</td>\n",
       "      <td>1.540512e+12</td>\n",
       "      <td>961</td>\n",
       "      <td>Woodstock Inprovisation</td>\n",
       "      <td>200</td>\n",
       "      <td>1543280209796</td>\n",
       "      <td>\"Mozilla/5.0 (Macintosh; Intel Mac OS X 10_9_4...</td>\n",
       "      <td>88</td>\n",
       "    </tr>\n",
       "    <tr>\n",
       "      <th>2</th>\n",
       "      <td>Building 429</td>\n",
       "      <td>Logged In</td>\n",
       "      <td>Mohammad</td>\n",
       "      <td>M</td>\n",
       "      <td>2</td>\n",
       "      <td>Rodriguez</td>\n",
       "      <td>300.61669</td>\n",
       "      <td>paid</td>\n",
       "      <td>Sacramento--Roseville--Arden-Arcade, CA</td>\n",
       "      <td>PUT</td>\n",
       "      <td>NextSong</td>\n",
       "      <td>1.540512e+12</td>\n",
       "      <td>961</td>\n",
       "      <td>Majesty (LP Version)</td>\n",
       "      <td>200</td>\n",
       "      <td>1543280448796</td>\n",
       "      <td>\"Mozilla/5.0 (Macintosh; Intel Mac OS X 10_9_4...</td>\n",
       "      <td>88</td>\n",
       "    </tr>\n",
       "    <tr>\n",
       "      <th>3</th>\n",
       "      <td>The B-52's</td>\n",
       "      <td>Logged In</td>\n",
       "      <td>Gianna</td>\n",
       "      <td>F</td>\n",
       "      <td>0</td>\n",
       "      <td>Jones</td>\n",
       "      <td>321.54077</td>\n",
       "      <td>free</td>\n",
       "      <td>New York-Newark-Jersey City, NY-NJ-PA</td>\n",
       "      <td>PUT</td>\n",
       "      <td>NextSong</td>\n",
       "      <td>1.540870e+12</td>\n",
       "      <td>107</td>\n",
       "      <td>Love Shack</td>\n",
       "      <td>200</td>\n",
       "      <td>1543282396796</td>\n",
       "      <td>\"Mozilla/5.0 (Macintosh; Intel Mac OS X 10_9_4...</td>\n",
       "      <td>38</td>\n",
       "    </tr>\n",
       "    <tr>\n",
       "      <th>4</th>\n",
       "      <td>Die Mooskirchner</td>\n",
       "      <td>Logged In</td>\n",
       "      <td>Gianna</td>\n",
       "      <td>F</td>\n",
       "      <td>1</td>\n",
       "      <td>Jones</td>\n",
       "      <td>169.29914</td>\n",
       "      <td>free</td>\n",
       "      <td>New York-Newark-Jersey City, NY-NJ-PA</td>\n",
       "      <td>PUT</td>\n",
       "      <td>NextSong</td>\n",
       "      <td>1.540870e+12</td>\n",
       "      <td>107</td>\n",
       "      <td>Frisch und g'sund</td>\n",
       "      <td>200</td>\n",
       "      <td>1543282717796</td>\n",
       "      <td>\"Mozilla/5.0 (Macintosh; Intel Mac OS X 10_9_4...</td>\n",
       "      <td>38</td>\n",
       "    </tr>\n",
       "  </tbody>\n",
       "</table>\n",
       "</div>"
      ],
      "text/plain": [
       "                                              artist       auth firstName  \\\n",
       "0  Barry Tuckwell/Academy of St Martin-in-the-Fie...  Logged In  Mohammad   \n",
       "1                                       Jimi Hendrix  Logged In  Mohammad   \n",
       "2                                       Building 429  Logged In  Mohammad   \n",
       "3                                         The B-52's  Logged In    Gianna   \n",
       "4                                   Die Mooskirchner  Logged In    Gianna   \n",
       "\n",
       "  gender  itemInSession   lastName     length level  \\\n",
       "0      M              0  Rodriguez  277.15873  paid   \n",
       "1      M              1  Rodriguez  239.82975  paid   \n",
       "2      M              2  Rodriguez  300.61669  paid   \n",
       "3      F              0      Jones  321.54077  free   \n",
       "4      F              1      Jones  169.29914  free   \n",
       "\n",
       "                                  location method      page  registration  \\\n",
       "0  Sacramento--Roseville--Arden-Arcade, CA    PUT  NextSong  1.540512e+12   \n",
       "1  Sacramento--Roseville--Arden-Arcade, CA    PUT  NextSong  1.540512e+12   \n",
       "2  Sacramento--Roseville--Arden-Arcade, CA    PUT  NextSong  1.540512e+12   \n",
       "3    New York-Newark-Jersey City, NY-NJ-PA    PUT  NextSong  1.540870e+12   \n",
       "4    New York-Newark-Jersey City, NY-NJ-PA    PUT  NextSong  1.540870e+12   \n",
       "\n",
       "   sessionId                                               song  status  \\\n",
       "0        961  Horn Concerto No. 4 in E flat K495: II. Romanc...     200   \n",
       "1        961                            Woodstock Inprovisation     200   \n",
       "2        961                               Majesty (LP Version)     200   \n",
       "3        107                                         Love Shack     200   \n",
       "4        107                                  Frisch und g'sund     200   \n",
       "\n",
       "              ts                                          userAgent userId  \n",
       "0  1543279932796  \"Mozilla/5.0 (Macintosh; Intel Mac OS X 10_9_4...     88  \n",
       "1  1543280209796  \"Mozilla/5.0 (Macintosh; Intel Mac OS X 10_9_4...     88  \n",
       "2  1543280448796  \"Mozilla/5.0 (Macintosh; Intel Mac OS X 10_9_4...     88  \n",
       "3  1543282396796  \"Mozilla/5.0 (Macintosh; Intel Mac OS X 10_9_4...     38  \n",
       "4  1543282717796  \"Mozilla/5.0 (Macintosh; Intel Mac OS X 10_9_4...     38  "
      ]
     },
     "execution_count": 14,
     "metadata": {},
     "output_type": "execute_result"
    }
   ],
   "source": [
    "log_df = pd.read_json(filepath, orient='records', lines=True)\n",
    "log_df.head()"
   ]
  },
  {
   "cell_type": "markdown",
   "metadata": {},
   "source": [
    "## #3: `time` Table\n",
    "#### Extract Data for Time Table\n",
    "- Filter records by `NextSong` action\n",
    "- Convert the `ts` timestamp column to datetime\n",
    "  - Hint: the current timestamp is in milliseconds\n",
    "- Extract the timestamp, hour, day, week of year, month, year, and weekday from the `ts` column and set `time_data` to a list containing these values in order\n",
    "  - Hint: use pandas' [`dt` attribute](https://pandas.pydata.org/pandas-docs/stable/reference/api/pandas.Series.dt.html) to access easily datetimelike properties.\n",
    "- Specify labels for these columns and set to `column_labels`\n",
    "- Create a dataframe, `time_df,` containing the time data for this file by combining `column_labels` and `time_data` into a dictionary and converting this into a dataframe"
   ]
  },
  {
   "cell_type": "code",
   "execution_count": 15,
   "metadata": {
    "scrolled": false
   },
   "outputs": [
    {
     "data": {
      "text/html": [
       "<div>\n",
       "<style scoped>\n",
       "    .dataframe tbody tr th:only-of-type {\n",
       "        vertical-align: middle;\n",
       "    }\n",
       "\n",
       "    .dataframe tbody tr th {\n",
       "        vertical-align: top;\n",
       "    }\n",
       "\n",
       "    .dataframe thead th {\n",
       "        text-align: right;\n",
       "    }\n",
       "</style>\n",
       "<table border=\"1\" class=\"dataframe\">\n",
       "  <thead>\n",
       "    <tr style=\"text-align: right;\">\n",
       "      <th></th>\n",
       "      <th>start_time</th>\n",
       "    </tr>\n",
       "  </thead>\n",
       "  <tbody>\n",
       "    <tr>\n",
       "      <th>0</th>\n",
       "      <td>2018-11-27 00:52:12.796</td>\n",
       "    </tr>\n",
       "    <tr>\n",
       "      <th>1</th>\n",
       "      <td>2018-11-27 00:56:49.796</td>\n",
       "    </tr>\n",
       "    <tr>\n",
       "      <th>2</th>\n",
       "      <td>2018-11-27 01:00:48.796</td>\n",
       "    </tr>\n",
       "    <tr>\n",
       "      <th>3</th>\n",
       "      <td>2018-11-27 01:33:16.796</td>\n",
       "    </tr>\n",
       "    <tr>\n",
       "      <th>4</th>\n",
       "      <td>2018-11-27 01:38:37.796</td>\n",
       "    </tr>\n",
       "  </tbody>\n",
       "</table>\n",
       "</div>"
      ],
      "text/plain": [
       "               start_time\n",
       "0 2018-11-27 00:52:12.796\n",
       "1 2018-11-27 00:56:49.796\n",
       "2 2018-11-27 01:00:48.796\n",
       "3 2018-11-27 01:33:16.796\n",
       "4 2018-11-27 01:38:37.796"
      ]
     },
     "execution_count": 15,
     "metadata": {},
     "output_type": "execute_result"
    }
   ],
   "source": [
    "time_df = pd.DataFrame(data=pd.to_datetime(log_df.loc[log_df['page'] == 'NextSong']['ts'], unit='ms').\n",
    "                       to_numpy()[:, None], columns=['start_time'])\n",
    "time_df.head()"
   ]
  },
  {
   "cell_type": "code",
   "execution_count": 16,
   "metadata": {},
   "outputs": [],
   "source": [
    "time_df = time_df.drop_duplicates(keep='first')"
   ]
  },
  {
   "cell_type": "code",
   "execution_count": 17,
   "metadata": {
    "scrolled": true
   },
   "outputs": [
    {
     "data": {
      "text/html": [
       "<div>\n",
       "<style scoped>\n",
       "    .dataframe tbody tr th:only-of-type {\n",
       "        vertical-align: middle;\n",
       "    }\n",
       "\n",
       "    .dataframe tbody tr th {\n",
       "        vertical-align: top;\n",
       "    }\n",
       "\n",
       "    .dataframe thead th {\n",
       "        text-align: right;\n",
       "    }\n",
       "</style>\n",
       "<table border=\"1\" class=\"dataframe\">\n",
       "  <thead>\n",
       "    <tr style=\"text-align: right;\">\n",
       "      <th></th>\n",
       "      <th>start_time</th>\n",
       "      <th>hour</th>\n",
       "      <th>day</th>\n",
       "      <th>week</th>\n",
       "      <th>month</th>\n",
       "      <th>year</th>\n",
       "      <th>weekday</th>\n",
       "    </tr>\n",
       "  </thead>\n",
       "  <tbody>\n",
       "    <tr>\n",
       "      <th>0</th>\n",
       "      <td>2018-11-27 00:52:12.796</td>\n",
       "      <td>0</td>\n",
       "      <td>27</td>\n",
       "      <td>48</td>\n",
       "      <td>11</td>\n",
       "      <td>2018</td>\n",
       "      <td>1</td>\n",
       "    </tr>\n",
       "    <tr>\n",
       "      <th>1</th>\n",
       "      <td>2018-11-27 00:56:49.796</td>\n",
       "      <td>0</td>\n",
       "      <td>27</td>\n",
       "      <td>48</td>\n",
       "      <td>11</td>\n",
       "      <td>2018</td>\n",
       "      <td>1</td>\n",
       "    </tr>\n",
       "    <tr>\n",
       "      <th>2</th>\n",
       "      <td>2018-11-27 01:00:48.796</td>\n",
       "      <td>1</td>\n",
       "      <td>27</td>\n",
       "      <td>48</td>\n",
       "      <td>11</td>\n",
       "      <td>2018</td>\n",
       "      <td>1</td>\n",
       "    </tr>\n",
       "    <tr>\n",
       "      <th>3</th>\n",
       "      <td>2018-11-27 01:33:16.796</td>\n",
       "      <td>1</td>\n",
       "      <td>27</td>\n",
       "      <td>48</td>\n",
       "      <td>11</td>\n",
       "      <td>2018</td>\n",
       "      <td>1</td>\n",
       "    </tr>\n",
       "    <tr>\n",
       "      <th>4</th>\n",
       "      <td>2018-11-27 01:38:37.796</td>\n",
       "      <td>1</td>\n",
       "      <td>27</td>\n",
       "      <td>48</td>\n",
       "      <td>11</td>\n",
       "      <td>2018</td>\n",
       "      <td>1</td>\n",
       "    </tr>\n",
       "  </tbody>\n",
       "</table>\n",
       "</div>"
      ],
      "text/plain": [
       "               start_time  hour  day  week  month  year  weekday\n",
       "0 2018-11-27 00:52:12.796     0   27    48     11  2018        1\n",
       "1 2018-11-27 00:56:49.796     0   27    48     11  2018        1\n",
       "2 2018-11-27 01:00:48.796     1   27    48     11  2018        1\n",
       "3 2018-11-27 01:33:16.796     1   27    48     11  2018        1\n",
       "4 2018-11-27 01:38:37.796     1   27    48     11  2018        1"
      ]
     },
     "execution_count": 17,
     "metadata": {},
     "output_type": "execute_result"
    }
   ],
   "source": [
    "time_df['hour'] = time_df['start_time'].dt.hour\n",
    "time_df['day'] = time_df['start_time'].dt.day\n",
    "time_df['week'] = time_df['start_time'].dt.isocalendar().week\n",
    "time_df['month'] = time_df['start_time'].dt.month\n",
    "time_df['year'] = time_df['start_time'].dt.year\n",
    "time_df['weekday'] = time_df['start_time'].dt.weekday\n",
    "\n",
    "time_df.head()"
   ]
  },
  {
   "cell_type": "markdown",
   "metadata": {},
   "source": [
    "#### Insert Records into Time Table\n",
    "Implement the `time_table_insert` query in `sql_queries.py` and run the cell below to insert records for the timestamps in this log file into the `time` table. Remember to run `create_tables.py` before running the cell below to ensure you've created/resetted the `time` table in the sparkify database."
   ]
  },
  {
   "cell_type": "code",
   "execution_count": 18,
   "metadata": {
    "scrolled": true
   },
   "outputs": [],
   "source": [
    "for i, row in time_df.iterrows():\n",
    "    cur.execute(time_table_insert, list(row))\n",
    "    conn.commit()"
   ]
  },
  {
   "cell_type": "markdown",
   "metadata": {},
   "source": [
    "Run `test.ipynb` to see if you've successfully added records to this table."
   ]
  },
  {
   "cell_type": "markdown",
   "metadata": {},
   "source": [
    "## #4: `users` Table\n",
    "#### Extract Data for Users Table\n",
    "- Select columns for user ID, first name, last name, gender and level and set to `user_df`"
   ]
  },
  {
   "cell_type": "code",
   "execution_count": 19,
   "metadata": {
    "scrolled": true
   },
   "outputs": [
    {
     "data": {
      "text/plain": [
       "(  user_id first_name  last_name gender level\n",
       " 0      88   Mohammad  Rodriguez      M  paid\n",
       " 1      88   Mohammad  Rodriguez      M  paid\n",
       " 2      88   Mohammad  Rodriguez      M  paid\n",
       " 3      38     Gianna      Jones      F  free\n",
       " 4      38     Gianna      Jones      F  free,\n",
       " (303, 5))"
      ]
     },
     "execution_count": 19,
     "metadata": {},
     "output_type": "execute_result"
    }
   ],
   "source": [
    "user_df = pd.DataFrame(data=log_df[['userId', 'firstName', 'lastName', 'gender', 'level']].to_numpy(),\n",
    "                       columns=['user_id', 'first_name', 'last_name', 'gender', 'level'])\n",
    "\n",
    "user_df.head(), user_df.shape"
   ]
  },
  {
   "cell_type": "code",
   "execution_count": 20,
   "metadata": {},
   "outputs": [
    {
     "data": {
      "text/plain": [
       "(27, 5)"
      ]
     },
     "execution_count": 20,
     "metadata": {},
     "output_type": "execute_result"
    }
   ],
   "source": [
    "user_df = user_df.drop_duplicates(keep='first')\n",
    "\n",
    "user_df.shape"
   ]
  },
  {
   "cell_type": "code",
   "execution_count": 21,
   "metadata": {},
   "outputs": [
    {
     "data": {
      "text/plain": [
       "(25, 5)"
      ]
     },
     "execution_count": 21,
     "metadata": {},
     "output_type": "execute_result"
    }
   ],
   "source": [
    "user_df = user_df.loc[~pd.isnull(user_df).any(axis=1)]\n",
    "                                \n",
    "user_df.shape"
   ]
  },
  {
   "cell_type": "markdown",
   "metadata": {},
   "source": [
    "#### Insert Records into Users Table\n",
    "Implement the `user_table_insert` query in `sql_queries.py` and run the cell below to insert records for the users in this log file into the `users` table. Remember to run `create_tables.py` before running the cell below to ensure you've created/resetted the `users` table in the sparkify database."
   ]
  },
  {
   "cell_type": "code",
   "execution_count": 22,
   "metadata": {
    "scrolled": true
   },
   "outputs": [],
   "source": [
    "for i, row in user_df.iterrows():\n",
    "    cur.execute(user_table_insert, row)\n",
    "    conn.commit()"
   ]
  },
  {
   "cell_type": "markdown",
   "metadata": {},
   "source": [
    "Run `test.ipynb` to see if you've successfully added records to this table."
   ]
  },
  {
   "cell_type": "markdown",
   "metadata": {},
   "source": [
    "## #5: `songplays` Table\n",
    "#### Extract Data and Songplays Table\n",
    "This one is a little more complicated since information from the songs table, artists table, and original log file are all needed for the `songplays` table. Since the log file does not specify an ID for either the song or the artist, you'll need to get the song ID and artist ID by querying the songs and artists tables to find matches based on song title, artist name, and song duration time.\n",
    "- Implement the `song_select` query in `sql_queries.py` to find the song ID and artist ID based on the title, artist name, and duration of a song.\n",
    "- Select the timestamp, user ID, level, song ID, artist ID, session ID, location, and user agent and set to `songplay_data`\n",
    "\n",
    "#### Insert Records into Songplays Table\n",
    "- Implement the `songplay_table_insert` query and run the cell below to insert records for the songplay actions in this log file into the `songplays` table. Remember to run `create_tables.py` before running the cell below to ensure you've created/resetted the `songplays` table in the sparkify database."
   ]
  },
  {
   "cell_type": "code",
   "execution_count": 23,
   "metadata": {
    "scrolled": true
   },
   "outputs": [],
   "source": [
    "for index, row in log_df.iterrows():\n",
    "\n",
    "    # get songid and artistid from song and artist tables\n",
    "    results = cur.execute(song_select, (row.song, row.artist, row.length))\n",
    "    songid, artistid = results if results else None, None\n",
    "\n",
    "    # insert songplay record\n",
    "    songplay_data = (index, songid, artistid, row.userId, \n",
    "                     row.registration, row.ts, row.level, row.location, row.userAgent)\n",
    "    cur.execute(songplay_table_insert, songplay_data)\n",
    "    conn.commit()"
   ]
  },
  {
   "cell_type": "markdown",
   "metadata": {},
   "source": [
    "Run `test.ipynb` to see if you've successfully added records to this table."
   ]
  },
  {
   "cell_type": "markdown",
   "metadata": {},
   "source": [
    "# Close Connection to Sparkify Database"
   ]
  },
  {
   "cell_type": "code",
   "execution_count": 24,
   "metadata": {
    "scrolled": true
   },
   "outputs": [],
   "source": [
    "conn.close()"
   ]
  },
  {
   "cell_type": "markdown",
   "metadata": {},
   "source": [
    "# Implement `etl.py`\n",
    "Use what you've completed in this notebook to implement `etl.py`."
   ]
  }
 ],
 "metadata": {
  "kernelspec": {
   "display_name": "Python 3",
   "language": "python",
   "name": "python3"
  },
  "language_info": {
   "codemirror_mode": {
    "name": "ipython",
    "version": 3
   },
   "file_extension": ".py",
   "mimetype": "text/x-python",
   "name": "python",
   "nbconvert_exporter": "python",
   "pygments_lexer": "ipython3",
   "version": "3.6.12"
  }
 },
 "nbformat": 4,
 "nbformat_minor": 2
}
